{
 "cells": [
  {
   "cell_type": "markdown",
   "metadata": {
    "id": "hd9fjO8Tt0gL"
   },
   "source": [
    "### MUSE and FasText Colab setup\n",
    "\n",
    "For training MUSE unsupervised models, you can use this environment to train your models. All you need to do is run the setup cells, upload the europarl corpora you want to create alignments of, and run whatever training code in the appropriate cells at the bottom.\n",
    "\n",
    "NOTE SUGGEST RUNNING THIS IN GPU MODE (Runtime --> Change Runtime Type --> GPU) While Fasttext is CPU only, MUSE is very slow on CPU.\n",
    "\n",
    "Total time to train everything should be ~1.5 hrs\n",
    "\n",
    "#### Submission instructions\n",
    "\n",
    "Use this training code to complete the MUSE related questions for Lab 1. Submit this colab notebook alongside your completed lab1.ipynb."
   ]
  },
  {
   "cell_type": "code",
   "execution_count": null,
   "metadata": {
    "id": "GA-rGyVkqlEF"
   },
   "outputs": [],
   "source": [
    "import torch"
   ]
  },
  {
   "cell_type": "code",
   "execution_count": null,
   "metadata": {
    "id": "59Xxo-w5qvsS"
   },
   "outputs": [],
   "source": [
    "!git clone https://github.com/facebookresearch/MUSE.git"
   ]
  },
  {
   "cell_type": "markdown",
   "metadata": {
    "id": "4efdffmaxz55"
   },
   "source": [
    "Download the evaluation data for MUSE\n",
    "\n",
    "#### [NOTE: We ran into some issues getting MUSE to correctly use the evaluation data. It should be possible to skip this cell (with no impact on training quality) if you follow the note about commenting a line in the evaluator.py file.]\n",
    "\n",
    "Takes a few minutes to download"
   ]
  },
  {
   "cell_type": "code",
   "execution_count": null,
   "metadata": {
    "id": "43rfpXWcq3nf"
   },
   "outputs": [],
   "source": [
    "\n",
    "!cd ./MUSE/data/; chmod +x get_evaluation.sh\n",
    "!cd ./MUSE/; ./data/get_evaluation.sh"
   ]
  },
  {
   "cell_type": "code",
   "execution_count": null,
   "metadata": {
    "id": "yYSY6U3itTBT"
   },
   "outputs": [],
   "source": [
    "#get fasText \n",
    "\n",
    "! wget https://github.com/facebookresearch/fastText/archive/v0.9.2.zip\n",
    "! unzip v0.9.2.zip\n",
    "! cd fastText-0.9.2; make\n"
   ]
  },
  {
   "cell_type": "code",
   "execution_count": null,
   "metadata": {
    "id": "9FOTdvy-MTPf"
   },
   "outputs": [],
   "source": [
    "#get europarl fr_en\n",
    "!wget https://www.statmt.org/europarl/v7/fr-en.tgz"
   ]
  },
  {
   "cell_type": "code",
   "execution_count": null,
   "metadata": {
    "id": "yoSsklY2Mahd"
   },
   "outputs": [],
   "source": [
    "#unpack\n",
    "!tar -xvzf fr-en.tgz"
   ]
  },
  {
   "cell_type": "markdown",
   "metadata": {
    "id": "_CUvMUH3vOhY"
   },
   "source": [
    "#### Run your training code:\n",
    "\n",
    "To run the training scripts you will need to prefix the command with a ! to run it as if it was a linux terminal.\n",
    "\n",
    "With the Europarl corpora we will build the fasText alignments  (see below). Once embeddings are created, we'll then feed them to MUSE. \n",
    "\n",
    "fastText does not need GPU to run and takes about 30 minutes each, you can run it in a CPU only notebook, save the files that are created (MUSE/en.vec MUSE/fr.vec) and then move them over to a GPU notebook for running MUSE, if you are concerned about your GPU quota.\n"
   ]
  },
  {
   "cell_type": "code",
   "execution_count": null,
   "metadata": {
    "id": "vNAuSuG-twFw"
   },
   "outputs": [],
   "source": [
    "### FastText Here \n",
    "!./fastText-0.9.2/fasttext skipgram -input europarl-v7.fr-en.en -output MUSE/en \n",
    "!./fastText-0.9.2/fasttext skipgram -input europarl-v7.fr-en.fr -output MUSE/fr\n"
   ]
  },
  {
   "cell_type": "code",
   "execution_count": null,
   "metadata": {
    "id": "Q6eyyrbUd5eJ"
   },
   "outputs": [],
   "source": [
    "#https://github.com/facebookresearch/MUSE/blob/master/demo.ipynb\n",
    "import io\n",
    "import numpy as np\n",
    "\n",
    "def load_vec(emb_path, nmax=50000):\n",
    "    vectors = []\n",
    "    word2id = {}\n",
    "    with io.open(emb_path, 'r', encoding='utf-8', newline='\\n', errors='ignore') as f:\n",
    "        next(f)\n",
    "        for i, line in enumerate(f):\n",
    "            word, vect = line.rstrip().split(' ', 1)\n",
    "            vect = np.fromstring(vect, sep=' ')\n",
    "            assert word not in word2id, 'word found twice'\n",
    "            vectors.append(vect)\n",
    "            word2id[word] = len(word2id)\n",
    "            if len(word2id) == nmax:\n",
    "                break\n",
    "    id2word = {v: k for k, v in word2id.items()}\n",
    "    embeddings = np.vstack(vectors)\n",
    "    return embeddings, id2word, word2id\n",
    "\n",
    "## modified this to return a result list\n",
    "def get_nn(word, src_emb, src_id2word, tgt_emb, tgt_id2word, K=5):\n",
    "    print(\"Nearest neighbors of \\\"%s\\\":\" % word)\n",
    "    word2id = {v: k for k, v in src_id2word.items()}\n",
    "    word_emb = src_emb[word2id[word]]\n",
    "    scores = (tgt_emb / np.linalg.norm(tgt_emb, 2, 1)[:, None]).dot(word_emb / np.linalg.norm(word_emb))\n",
    "    k_best = scores.argsort()[-K:][::-1]\n",
    "    for i, idx in enumerate(k_best):\n",
    "        result.append((scores[idx], tgt_id2word[idx]))\n",
    "    return result"
   ]
  },
  {
   "cell_type": "code",
   "execution_count": null,
   "metadata": {
    "id": "tZ8ObQgSVFda"
   },
   "outputs": [],
   "source": [
    "# load english and french word embeddings\n",
    "MUSE_PATH = \"MUSE\"\n",
    "en_embeddings, en_id2word, en_word2id = load_vec(MUSE_PATH + \"/en.vec\", nmax=50000)\n",
    "fr_embeddings, fr_id2word, fr_word2id = load_vec(MUSE_PATH + \"/fr.vec\", nmax=50000)"
   ]
  },
  {
   "cell_type": "markdown",
   "metadata": {
    "id": "b_YCHO_zwDaV"
   },
   "source": [
    "You can use the get_nn function as follows (where K is the number of results, feel free to increase). Do this for the words in English (Minutes, minutes, vote) and French (vous, intervienne, accord)"
   ]
  },
  {
   "cell_type": "code",
   "execution_count": null,
   "metadata": {
    "id": "eOavnDyKv-Yf"
   },
   "outputs": [],
   "source": [
    "print('most similar word to Minutes is %s'%get_nn('Minutes', en_embeddings, en_id2word, en_embeddings, en_id2word, K=2))\n",
    "\n",
    "## TO COMPLETE*** GET REST OF WORDS"
   ]
  },
  {
   "cell_type": "code",
   "execution_count": null,
   "metadata": {
    "id": "RWnd8-6kgEr0"
   },
   "outputs": [],
   "source": [
    "# FAISS is a tool to speed training of some facebook models, this is how you can import it.\n",
    "!apt install libomp-dev\n",
    "!python -m pip install --upgrade faiss faiss-gpu\n",
    "import faiss"
   ]
  },
  {
   "cell_type": "markdown",
   "metadata": {
    "id": "V7jt5HrKmpU5"
   },
   "source": [
    "Now we are going to run MUSE.\n",
    "Note: We found an issues with running the eval parts of the training, to get around this comment out line 217 in /MUSE/src/evaluation/evaluator.py:\n",
    " self.word_translation(to_log)\n",
    "\n",
    "### Training time should take around 30 minutes on GPU, plan accordingly."
   ]
  },
  {
   "cell_type": "code",
   "execution_count": null,
   "metadata": {
    "id": "74TQGWXpv4Zx"
   },
   "outputs": [],
   "source": [
    "### MUSE Here\n",
    "%cd MUSE\n",
    "!python unsupervised.py --src_lang fr --tgt_lang en --src_emb fr.vec --tgt_emb en.vec --n_refinement 5 --emb_dim 100 --dis_most_frequent 0\n",
    "\n"
   ]
  },
  {
   "cell_type": "code",
   "execution_count": null,
   "metadata": {
    "id": "Na6zSoI7kQL1"
   },
   "outputs": [],
   "source": [
    "en_embeddings, en_id2word, en_word2id = load_vec(\"path/to/en_vectors.txt\", nmax=50000)\n",
    "fr_embeddings, fr_id2word, fr_word2id = load_vec(\"path/to/fr_vectors.txt\", nmax=50000)\n",
    "\n",
    "### TO COMPLETE*** Get nearest neighbor (get_nn) of 'disaster' 'vote' 'excessively' and any other words that you want to compare\n"
   ]
  }
 ],
 "metadata": {
  "accelerator": "GPU",
  "colab": {
   "name": "531_L1_MUSE.ipynb",
   "provenance": [],
   "toc_visible": true
  },
  "kernelspec": {
   "display_name": "Python 3",
   "language": "python",
   "name": "python3"
  },
  "language_info": {
   "codemirror_mode": {
    "name": "ipython",
    "version": 3
   },
   "file_extension": ".py",
   "mimetype": "text/x-python",
   "name": "python",
   "nbconvert_exporter": "python",
   "pygments_lexer": "ipython3",
   "version": "3.7.3"
  }
 },
 "nbformat": 4,
 "nbformat_minor": 1
}
